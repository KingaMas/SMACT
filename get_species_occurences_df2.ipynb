{
 "cells": [
  {
   "cell_type": "code",
   "execution_count": 2,
   "metadata": {},
   "outputs": [],
   "source": [
    "def get_species_occurrences_df2(\n",
    "    self,\n",
    "    threshold=3,\n",
    "    include_one_oxidation_state: bool = False,\n",
    "    sort_by_occurrences: bool = True,\n",
    "):\n",
    "    \"\"\"Get the ICSD 24 oxidation states list as a dataframe of species with their occurrences.\n",
    "\n",
    "    Args:\n",
    "        include_one_oxidation_state (bool): Include oxidation states +1 and -1 in the species or include as + and - signs. Default is False.\n",
    "        sort_by_occurrences (bool): Sort the species list by occurrences. Default is True.\n",
    "\n",
    "    Returns:\n",
    "        dataframe: The species list as a dataframe of species with their occurrences.\n",
    "    \"\"\"\n",
    "    species_occurrences_df = self.ox_states_df[\n",
    "        (self.ox_states_df.results_count >= threshold)\n",
    "    ].reset_index(drop=True)\n",
    "    species_occurrences_df[\"species\"] = species_occurrences_df.apply(\n",
    "        lambda x: unparse_spec(\n",
    "            (x[\"element\"], x[\"oxidation_state\"]),\n",
    "            include_one=include_one_oxidation_state,\n",
    "        ),\n",
    "        axis=1,\n",
    "    )\n",
    "    species_occurrences_df = species_occurrences_df[[\"species\", \"results_count\"]]\n",
    "    if sort_by_occurrences:\n",
    "        return species_occurrences_df.sort_values(\n",
    "            \"results_count\", ascending=False\n",
    "        ).reset_index(drop=True)\n",
    "    return species_occurrences_df"
   ]
  }
 ],
 "metadata": {
  "kernelspec": {
   "display_name": "p1",
   "language": "python",
   "name": "python3"
  },
  "language_info": {
   "codemirror_mode": {
    "name": "ipython",
    "version": 3
   },
   "file_extension": ".py",
   "mimetype": "text/x-python",
   "name": "python",
   "nbconvert_exporter": "python",
   "pygments_lexer": "ipython3",
   "version": "3.8.20"
  }
 },
 "nbformat": 4,
 "nbformat_minor": 2
}
