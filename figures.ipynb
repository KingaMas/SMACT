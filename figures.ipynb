{
 "cells": [
  {
   "cell_type": "code",
   "execution_count": 1,
   "metadata": {},
   "outputs": [],
   "source": [
    "import matplotlib.pyplot as plt\n",
    "import numpy as np\n",
    "import pandas as pd"
   ]
  },
  {
   "cell_type": "code",
   "execution_count": 2,
   "metadata": {},
   "outputs": [
    {
     "name": "stderr",
     "output_type": "stream",
     "text": [
      "<>:53: SyntaxWarning: 'float' object is not callable; perhaps you missed a comma?\n",
      "<>:53: SyntaxWarning: 'float' object is not callable; perhaps you missed a comma?\n"
     ]
    },
    {
     "ename": "NameError",
     "evalue": "name 'sns' is not defined",
     "output_type": "error",
     "traceback": [
      "\u001b[0;31m---------------------------------------------------------------------------\u001b[0m",
      "\u001b[0;31mNameError\u001b[0m                                 Traceback (most recent call last)",
      "Cell \u001b[0;32mIn[2], line 2\u001b[0m\n\u001b[1;32m      1\u001b[0m \u001b[38;5;66;03m# Create a colormap\u001b[39;00m\n\u001b[0;32m----> 2\u001b[0m colormap \u001b[38;5;241m=\u001b[39m \u001b[43msns\u001b[49m\u001b[38;5;241m.\u001b[39mcolor_palette(\u001b[38;5;124m\"\u001b[39m\u001b[38;5;124mflare\u001b[39m\u001b[38;5;124m\"\u001b[39m, as_cmap\u001b[38;5;241m=\u001b[39m\u001b[38;5;28;01mTrue\u001b[39;00m)\n\u001b[1;32m      3\u001b[0m \u001b[38;5;66;03m# Diagonal line\u001b[39;00m\n\u001b[1;32m      4\u001b[0m x_diagonal \u001b[38;5;241m=\u001b[39m np\u001b[38;5;241m.\u001b[39mlinspace(\u001b[38;5;241m-\u001b[39m\u001b[38;5;241m10\u001b[39m, \u001b[38;5;241m100\u001b[39m, \u001b[38;5;241m10\u001b[39m)\n",
      "\u001b[0;31mNameError\u001b[0m: name 'sns' is not defined"
     ]
    }
   ],
   "source": [
    "# Create a colormap\n",
    "colormap = sns.color_palette(\"flare\", as_cmap=True)\n",
    "# Diagonal line\n",
    "x_diagonal = np.linspace(-10, 100, 10)\n",
    "y_diagonal = x_diagonal\n",
    "# Plot\n",
    "fig, ax = plt.subplots(figsize=(16, 10))\n",
    "ax.set_aspect(aspect_ratio)\n",
    "ax.set_xlim([-0.5, 82.5])\n",
    "ax.set_ylim([-0.5, 82.5])\n",
    "# Create x- and y-axis sorting by atomic number/group\n",
    "ax.plot(list_elements_wnoble, list_elements_wnoble, \"-\", linewidth=0)\n",
    "# Create diagonal line\n",
    "ax.plot(x_diagonal, y_diagonal, \"--\", color=\"black\", linewidth=1, alpha=0.2)\n",
    "# Plot the square plot, where c is the ehull value (you can change this to number of occurence for each combination)\n",
    "img = ax.scatter(\n",
    "    list_converged_normal_oxide_ehull_x,\n",
    "    list_converged_normal_oxide_ehull_y,\n",
    "    marker=\"s\",\n",
    "    s=25,\n",
    "    c=list_converged_normal_oxide_ehull_only,\n",
    "    cmap=colormap,\n",
    ")\n",
    "# Plot experimental data (square plot with only edge)\n",
    "ax.scatter(\n",
    "    list_icsd_mp_oxide_x,\n",
    "    list_icsd_mp_oxide_y,\n",
    "    marker=\"s\",\n",
    "    facecolor=\"None\",\n",
    "    edgecolor=color_experiment,\n",
    "    s=25,\n",
    "    label=\"MP+ICSD\",\n",
    ")\n",
    "ax.legend(\n",
    "    loc=\"upper left\", bbox_to_anchor=(1.05, 1), fontsize=legend_size, markerscale=2\n",
    ")\n",
    "ax.set_title(\n",
    "    f\"Ehull Landscape (< {ehull_threshold} eV) for Normal Oxide Spinels (by group)\",\n",
    "    fontsize=title_size,\n",
    ")\n",
    "# Create x and y tick labels\n",
    "ax.set_xticks(list_elements_wnoble, x_label, fontsize=ticks_label_size)\n",
    "ax.set_yticks(list_elements_wnoble, y_label, fontsize=ticks_label_size)\n",
    "ax.set_xlabel(\"A\", fontsize=axes_label_size)\n",
    "ax.set_ylabel(\"B\", fontsize=axes_label_size)\n",
    "ax.xaxis.set_minor_locator(AutoMinorLocator(2))\n",
    "ax.yaxis.set_minor_locator(AutoMinorLocator(2))\n",
    "ax.grid(which=\"minor\", linestyle=\"--\", linewidth=0.5)\n",
    "cbar = fig.colorbar(img, ax=ax, orientation=\"vertical\")\n",
    "cbar.ax.set_position([0.783, 0.195, 1, 0.6])\n",
    "cbar.set_label(\"Ehull\", fontsize=axes_label_size, labelpad=20)\n",
    "txt_pos_x = 95\n",
    "txt_pos_y = 72.7(edited)"
   ]
  },
  {
   "cell_type": "code",
   "execution_count": null,
   "metadata": {},
   "outputs": [],
   "source": [
    "df_elements_wnoble = pd.read_csv(\n",
    "    \"/home/e05/e05/pdetrat/work/2_MACE_spinels/1_MACE_and_VASP/MACE/1_generating_compositions/elements_by_group_wnoble.csv\",\n",
    "    header=None,\n",
    ")\n",
    "list_elements_wnoble = df_elements_wnoble[0].values.tolist()\n",
    "x_label = []\n",
    "y_label = []\n",
    "x_newline = \"\\n\"\n",
    "y_space = \"     \"\n",
    "for i in range(len(list_elements_wnoble)):\n",
    "    if i % 2 == 0:\n",
    "        x_label.append(list_elements_wnoble[i])\n",
    "        y_label.append(list_elements_wnoble[i])\n",
    "    else:\n",
    "        x_label.append(x_newline + list_elements_wnoble[i])\n",
    "        y_label.append(list_elements_wnoble[i] + y_space)"
   ]
  }
 ],
 "metadata": {
  "kernelspec": {
   "display_name": "p1",
   "language": "python",
   "name": "python3"
  },
  "language_info": {
   "codemirror_mode": {
    "name": "ipython",
    "version": 3
   },
   "file_extension": ".py",
   "mimetype": "text/x-python",
   "name": "python",
   "nbconvert_exporter": "python",
   "pygments_lexer": "ipython3",
   "version": "3.8.20"
  }
 },
 "nbformat": 4,
 "nbformat_minor": 2
}
